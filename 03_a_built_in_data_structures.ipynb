{
  "nbformat": 4,
  "nbformat_minor": 0,
  "metadata": {
    "colab": {
      "name": "03_a_built-in_data_structures.ipynb",
      "provenance": [],
      "include_colab_link": true
    },
    "kernelspec": {
      "name": "python3",
      "display_name": "Python 3"
    }
  },
  "cells": [
    {
      "cell_type": "markdown",
      "metadata": {
        "id": "view-in-github",
        "colab_type": "text"
      },
      "source": [
        "<a href=\"https://colab.research.google.com/github/Cheolmin-Jo/Cheolmin-Jo.github.io/blob/master/03_a_built_in_data_structures.ipynb\" target=\"_parent\"><img src=\"https://colab.research.google.com/assets/colab-badge.svg\" alt=\"Open In Colab\"/></a>"
      ]
    },
    {
      "cell_type": "code",
      "metadata": {
        "id": "QBUKk-3HUK5Z",
        "colab_type": "code",
        "colab": {
          "base_uri": "https://localhost:8080/",
          "height": 73
        },
        "outputId": "bc97c1ef-462d-415c-f09c-7fef700e2170"
      },
      "source": [
        "seq = ((1, 2, 3), (4, 5, 6), (7, 8, 9))\n",
        "for (a,b,c) in seq:\n",
        "    print('a = {0}, b = {1}, c= {2}'.format(a, b, c))"
      ],
      "execution_count": 3,
      "outputs": [
        {
          "output_type": "stream",
          "text": [
            "a = 1, b = 2, c= 3\n",
            "a = 4, b = 5, c= 6\n",
            "a = 7, b = 8, c= 9\n"
          ],
          "name": "stdout"
        }
      ]
    },
    {
      "cell_type": "markdown",
      "metadata": {
        "id": "RNx2Bv_rV76I",
        "colab_type": "text"
      },
      "source": [
        "# 기본 형태는 다음과 같다\n",
        "[expr for val in collection if condtion]\n",
        " \n",
        "# 위의 코드는 다음 반복문과 같다\n",
        "result = []\n",
        "for val in collection :\n",
        "    if condition :\n",
        "        result.append(expr)"
      ]
    },
    {
      "cell_type": "code",
      "metadata": {
        "id": "kvO7oHyZUkZf",
        "colab_type": "code",
        "colab": {
          "base_uri": "https://localhost:8080/",
          "height": 73
        },
        "outputId": "9cb8cd9b-cd47-4432-f683-fa49bc739b4e"
      },
      "source": [
        "# for in if 구문을 잘 활용해보자.\n",
        "\n",
        "list = []\n",
        "for i in range(1,4):\n",
        "    if i % 2 == 0:\n",
        "        print(i)\n",
        "        list.append(i)\n",
        "print(list)\n",
        "\n",
        "list = [i for i in range(1,4) if i % 2 == 0]\n",
        "print(list)"
      ],
      "execution_count": 22,
      "outputs": [
        {
          "output_type": "stream",
          "text": [
            "2\n",
            "[2]\n",
            "[2]\n"
          ],
          "name": "stdout"
        }
      ]
    },
    {
      "cell_type": "code",
      "metadata": {
        "id": "-BVxjyhZU-l4",
        "colab_type": "code",
        "colab": {
          "base_uri": "https://localhost:8080/",
          "height": 36
        },
        "outputId": "88f11700-7508-4931-e084-1fb66bd9ca4b"
      },
      "source": [
        "strings = ['a', 'as', 'bat', 'car', 'dove', 'python']\n",
        "\n",
        "lst = [x.upper() for x in strings if len(x) > 2]\n",
        "lst"
      ],
      "execution_count": 23,
      "outputs": [
        {
          "output_type": "execute_result",
          "data": {
            "text/plain": [
              "['BAT', 'CAR', 'DOVE', 'PYTHON']"
            ]
          },
          "metadata": {
            "tags": []
          },
          "execution_count": 23
        }
      ]
    },
    {
      "cell_type": "code",
      "metadata": {
        "id": "jfVdYV7yWV-o",
        "colab_type": "code",
        "colab": {}
      },
      "source": [
        ""
      ],
      "execution_count": 0,
      "outputs": []
    }
  ]
}